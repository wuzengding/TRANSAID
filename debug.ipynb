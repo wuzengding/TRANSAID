{
 "cells": [
  {
   "cell_type": "code",
   "execution_count": 7,
   "id": "011fa31d-7b74-46be-9af3-c397d8210f80",
   "metadata": {},
   "outputs": [
    {
     "data": {
      "image/png": "[encoded data removed]",
      "text/plain": [
       "<Figure size 640x480 with 1 Axes>"
      ]
     },
     "metadata": {},
     "output_type": "display_data"
    }
   ],
   "source": [
    "import matplotlib.pyplot as plt\n",
    "\n",
    "# 数据准备\n",
    "data = [80, 12, 21]\n",
    "labels_ = ['剩余位点', 'MSI区域或背景信号过高', 'AF低于10%']\n",
    "labels = [\"part1\", 'part2', 'part3']\n",
    "colors = ['lightblue', 'salmon', 'lightgreen']\n",
    "explode = (0, 0.1, 0)  # 将第二块(MSI区域或背景信号过高)稍微分离出来\n",
    "\n",
    "# 绘制饼图\n",
    "plt.pie(data, labels=labels, colors=colors, explode=explode, autopct='%1.1f%%', startangle=90)\n",
    "plt.axis('equal')  # 保证饼图是一个圆\n",
    "plt.title('variants detection results')\n",
    "plt.show()"
   ]
  },
  {
   "cell_type": "code",
   "execution_count": 35,
   "id": "5cd3ec16-b93b-449a-a8a2-ac76b9a9e9b3",
   "metadata": {},
   "outputs": [],
   "source": [
    "import torch\n",
    "import numpy as np\n",
    "import os\n",
    "from Bio import SeqIO"
   ]
  },
  {
   "cell_type": "code",
   "execution_count": 32,
   "id": "65e2e4af-df69-4545-afe7-40e0b160bce8",
   "metadata": {},
   "outputs": [
    {
     "name": "stdout",
     "output_type": "stream",
     "text": [
      "40 2\n",
      "41 2\n",
      "42 2\n",
      "1321 1\n",
      "1322 1\n",
      "1323 1\n"
     ]
    }
   ],
   "source": [
    "path=\"/home/jovyan/work/insilico_translation/encode_base_type1_maxlen75_trainratio80/train\"\n",
    "transcriptid=\"NM_000019\"\n",
    "labels = torch.load(os.path.join(path, transcriptid+\"_labels.pt\"),weights_only=True)\n",
    "for i,value in enumerate(labels):\n",
    "    if value >= 1:\n",
    "        print(i,int(value.item()))"
   ]
  },
  {
   "cell_type": "code",
   "execution_count": 39,
   "id": "b25fc03f-8806-4ab4-9520-c83eebf54e68",
   "metadata": {},
   "outputs": [
    {
     "name": "stdout",
     "output_type": "stream",
     "text": [
      "70 tensor([1, 0, 0])\n",
      "71 tensor([1, 0, 0])\n",
      "72 tensor([1, 0, 0])\n",
      "4492 tensor([0, 1, 0])\n",
      "4493 tensor([0, 1, 0])\n",
      "4494 tensor([0, 1, 0])\n"
     ]
    }
   ],
   "source": [
    "path=\"/home/jovyan/work/insilico_translation/encoded_onehot_type3_maxlen75_trainratio80/validation_check2\"\n",
    "transcriptid=\"NM_000014\"\n",
    "labels = torch.load(os.path.join(path, transcriptid+\"_labels.pt\"),weights_only=True)\n",
    "for i,value in enumerate(labels):\n",
    "    if value[0] == 1:\n",
    "        print(i,value)\n",
    "    if value[1] == 1:\n",
    "        print(i,value)"
   ]
  },
  {
   "cell_type": "code",
   "execution_count": 15,
   "id": "34232c85-fcff-4c6a-b1bc-06bc3370b56d",
   "metadata": {},
   "outputs": [
    {
     "name": "stdout",
     "output_type": "stream",
     "text": [
      "40 2\n",
      "41 2\n",
      "42 2\n",
      "1321 1\n",
      "1322 1\n",
      "1323 1\n"
     ]
    }
   ],
   "source": [
    "transcriptid=\"NM_000019\"\n",
    "labels = torch.load(os.path.join(path, transcriptid+\"_labels.pt\"),weights_only=True)\n",
    "for i,value in enumerate(labels):\n",
    "    if value >= 1:\n",
    "        print(i,int(value.item()))"
   ]
  },
  {
   "cell_type": "code",
   "execution_count": 17,
   "id": "516deaad-925d-4cb8-9980-d7d154331d35",
   "metadata": {},
   "outputs": [
    {
     "data": {
      "text/plain": [
       "(tensor([ 3.,  4.,  6., 10.]),\n",
       " tensor([-1.,  0.,  2.,  6.]),\n",
       " tensor([ 2.,  4.,  8., 16.]),\n",
       " tensor([0.5000, 1.0000, 2.0000, 4.0000]),\n",
       " tensor([ 1.,  4., 16., 64.]))"
      ]
     },
     "execution_count": 17,
     "metadata": {},
     "output_type": "execute_result"
    }
   ],
   "source": [
    "x = torch.tensor([1.0, 2, 4, 8])\n",
    "y = torch.tensor([2, 2, 2, 2])\n",
    "x + y, x - y, x * y, x / y, x ** y"
   ]
  },
  {
   "cell_type": "code",
   "execution_count": 43,
   "id": "3ff8a831-ff60-42d7-b866-064bfc085928",
   "metadata": {},
   "outputs": [
    {
     "data": {
      "text/plain": [
       "\u001b[0;31mDocstring:\u001b[0m\n",
       "reshape(input, shape) -> Tensor\n",
       "\n",
       "Returns a tensor with the same data and number of elements as :attr:`input`,\n",
       "but with the specified shape. When possible, the returned tensor will be a view\n",
       "of :attr:`input`. Otherwise, it will be a copy. Contiguous inputs and inputs\n",
       "with compatible strides can be reshaped without copying, but you should not\n",
       "depend on the copying vs. viewing behavior.\n",
       "\n",
       "See :meth:`torch.Tensor.view` on when it is possible to return a view.\n",
       "\n",
       "A single dimension may be -1, in which case it's inferred from the remaining\n",
       "dimensions and the number of elements in :attr:`input`.\n",
       "\n",
       "Args:\n",
       "    input (Tensor): the tensor to be reshaped\n",
       "    shape (tuple of int): the new shape\n",
       "\n",
       "Example::\n",
       "\n",
       "    >>> a = torch.arange(4.)\n",
       "    >>> torch.reshape(a, (2, 2))\n",
       "    tensor([[ 0.,  1.],\n",
       "            [ 2.,  3.]])\n",
       "    >>> b = torch.tensor([[0, 1], [2, 3]])\n",
       "    >>> torch.reshape(b, (-1,))\n",
       "    tensor([ 0,  1,  2,  3])\n",
       "\u001b[0;31mType:\u001b[0m      builtin_function_or_method"
      ]
     },
     "metadata": {},
     "output_type": "display_data"
    }
   ],
   "source": [
    "?torch.reshape"
   ]
  },
  {
   "cell_type": "code",
   "execution_count": 44,
   "id": "bc82d91e-d60b-4024-9850-9f8c8522f6a6",
   "metadata": {},
   "outputs": [
    {
     "data": {
      "text/plain": [
       "\u001b[0;31mDocstring:\u001b[0m\n",
       "argmax(input) -> LongTensor\n",
       "\n",
       "Returns the indices of the maximum value of all elements in the :attr:`input` tensor.\n",
       "\n",
       "This is the second value returned by :meth:`torch.max`. See its\n",
       "documentation for the exact semantics of this method.\n",
       "\n",
       ".. note:: If there are multiple maximal values then the indices of the first maximal value are returned.\n",
       "\n",
       "Args:\n",
       "    input (Tensor): the input tensor.\n",
       "\n",
       "Example::\n",
       "\n",
       "    >>> a = torch.randn(4, 4)\n",
       "    >>> a\n",
       "    tensor([[ 1.3398,  0.2663, -0.2686,  0.2450],\n",
       "            [-0.7401, -0.8805, -0.3402, -1.1936],\n",
       "            [ 0.4907, -1.3948, -1.0691, -0.3132],\n",
       "            [-1.6092,  0.5419, -0.2993,  0.3195]])\n",
       "    >>> torch.argmax(a)\n",
       "    tensor(0)\n",
       "\n",
       ".. function:: argmax(input, dim, keepdim=False) -> LongTensor\n",
       "   :noindex:\n",
       "\n",
       "Returns the indices of the maximum values of a tensor across a dimension.\n",
       "\n",
       "This is the second value returned by :meth:`torch.max`. See its\n",
       "documentation for the exact semantics of this method.\n",
       "\n",
       "Args:\n",
       "    input (Tensor): the input tensor.\n",
       "    dim (int): the dimension to reduce. If ``None``, the argmax of the flattened input is returned.\n",
       "    keepdim (bool): whether the output tensor has :attr:`dim` retained or not.\n",
       "\n",
       "Example::\n",
       "\n",
       "    >>> a = torch.randn(4, 4)\n",
       "    >>> a\n",
       "    tensor([[ 1.3398,  0.2663, -0.2686,  0.2450],\n",
       "            [-0.7401, -0.8805, -0.3402, -1.1936],\n",
       "            [ 0.4907, -1.3948, -1.0691, -0.3132],\n",
       "            [-1.6092,  0.5419, -0.2993,  0.3195]])\n",
       "    >>> torch.argmax(a, dim=1)\n",
       "    tensor([ 0,  2,  0,  1])\n",
       "\u001b[0;31mType:\u001b[0m      builtin_function_or_method"
      ]
     },
     "metadata": {},
     "output_type": "display_data"
    }
   ],
   "source": [
    "?torch.argmax"
   ]
  },
  {
   "cell_type": "code",
   "execution_count": 45,
   "id": "424433b2-6378-45d0-8f44-86fe6aeb18d3",
   "metadata": {},
   "outputs": [],
   "source": [
    "a = torch.randn(4, 3)"
   ]
  },
  {
   "cell_type": "code",
   "execution_count": 46,
   "id": "461c6541-0175-4370-ac22-531ffb8d6d3f",
   "metadata": {},
   "outputs": [
    {
     "data": {
      "text/plain": [
       "tensor([[ 1.3013e+00, -2.6037e+00,  8.4664e-01],\n",
       "        [ 2.2084e-03, -1.0208e+00, -9.2388e-01],\n",
       "        [-1.4107e+00,  2.9467e-01, -3.3443e-01],\n",
       "        [-1.4928e+00, -2.0301e+00,  6.5146e-01]])"
      ]
     },
     "execution_count": 46,
     "metadata": {},
     "output_type": "execute_result"
    }
   ],
   "source": [
    "a"
   ]
  },
  {
   "cell_type": "code",
   "execution_count": 47,
   "id": "63e3a952-9da1-417d-87e7-436610f6d032",
   "metadata": {},
   "outputs": [
    {
     "data": {
      "text/plain": [
       "tensor([0, 0, 1, 2])"
      ]
     },
     "execution_count": 47,
     "metadata": {},
     "output_type": "execute_result"
    }
   ],
   "source": [
    "torch.argmax(a, dim=1)"
   ]
  },
  {
   "cell_type": "code",
   "execution_count": 48,
   "id": "57afad7d-86c8-475b-840c-ed2cd11a027c",
   "metadata": {},
   "outputs": [
    {
     "data": {
      "text/plain": [
       "tensor([0, 2, 0])"
      ]
     },
     "execution_count": 48,
     "metadata": {},
     "output_type": "execute_result"
    }
   ],
   "source": [
    "torch.argmax(a, dim=0)"
   ]
  },
  {
   "cell_type": "code",
   "execution_count": 49,
   "id": "9001f76a-4b1b-4f0a-9a4f-e3caf53a5973",
   "metadata": {},
   "outputs": [
    {
     "data": {
      "text/plain": [
       "tensor([0, 0, 1, 2])"
      ]
     },
     "execution_count": 49,
     "metadata": {},
     "output_type": "execute_result"
    }
   ],
   "source": [
    "a.argmax(dim=1)"
   ]
  },
  {
   "cell_type": "code",
   "execution_count": 3,
   "id": "7047e864-9f81-4145-9163-bade25cf5d33",
   "metadata": {},
   "outputs": [],
   "source": [
    "import pickle\n",
    "\n",
    "# 读取pkl文件\n",
    "pkl_file = \"/home/jovyan/work/insilico_translation/embedding_type3_maxlen9995_ratio80_NM_NR/TRANSAID_Embedding_v2_batch4_NM_matching_predictions.pkl\"\n",
    "\n",
    "with open(pkl_file, 'rb') as f:\n",
    "    predictions = pickle.load(f)"
   ]
  },
  {
   "cell_type": "code",
   "execution_count": 4,
   "id": "92dce38b-5954-4e90-ac11-eb27a56d76c9",
   "metadata": {},
   "outputs": [
    {
     "name": "stdout",
     "output_type": "stream",
     "text": [
      "Found transcript: NM_001258253\n",
      "\n",
      "Predictions: [2 2 2 ... 2 2 2]\n"
     ]
    },
    {
     "ename": "KeyError",
     "evalue": "'predictions_probs'",
     "output_type": "error",
     "traceback": [
      "\u001b[0;31m---------------------------------------------------------------------------\u001b[0m",
      "\u001b[0;31mKeyError\u001b[0m                                  Traceback (most recent call last)",
      "Cell \u001b[0;32mIn[4], line 7\u001b[0m\n\u001b[1;32m      5\u001b[0m \u001b[38;5;28mprint\u001b[39m(\u001b[38;5;124m\"\u001b[39m\u001b[38;5;124mFound transcript:\u001b[39m\u001b[38;5;124m\"\u001b[39m, target_id)\n\u001b[1;32m      6\u001b[0m \u001b[38;5;28mprint\u001b[39m(\u001b[38;5;124m\"\u001b[39m\u001b[38;5;130;01m\\n\u001b[39;00m\u001b[38;5;124mPredictions:\u001b[39m\u001b[38;5;124m\"\u001b[39m, item[\u001b[38;5;124m'\u001b[39m\u001b[38;5;124mpredictions\u001b[39m\u001b[38;5;124m'\u001b[39m])  \u001b[38;5;66;03m# 预测的标签序列\u001b[39;00m\n\u001b[0;32m----> 7\u001b[0m \u001b[38;5;28mprint\u001b[39m(\u001b[38;5;124m\"\u001b[39m\u001b[38;5;130;01m\\n\u001b[39;00m\u001b[38;5;124mPrediction probabilities:\u001b[39m\u001b[38;5;124m\"\u001b[39m, \u001b[43mitem\u001b[49m\u001b[43m[\u001b[49m\u001b[38;5;124;43m'\u001b[39;49m\u001b[38;5;124;43mpredictions_probs\u001b[39;49m\u001b[38;5;124;43m'\u001b[39;49m\u001b[43m]\u001b[49m)  \u001b[38;5;66;03m# 预测的概率值\u001b[39;00m\n\u001b[1;32m      8\u001b[0m \u001b[38;5;28mprint\u001b[39m(\u001b[38;5;124m\"\u001b[39m\u001b[38;5;130;01m\\n\u001b[39;00m\u001b[38;5;124mTrue labels:\u001b[39m\u001b[38;5;124m\"\u001b[39m, item[\u001b[38;5;124m'\u001b[39m\u001b[38;5;124mtrue_labels\u001b[39m\u001b[38;5;124m'\u001b[39m])  \u001b[38;5;66;03m# 真实标签\u001b[39;00m\n\u001b[1;32m      9\u001b[0m \u001b[38;5;28mprint\u001b[39m(\u001b[38;5;124m\"\u001b[39m\u001b[38;5;130;01m\\n\u001b[39;00m\u001b[38;5;124mSequence length:\u001b[39m\u001b[38;5;124m\"\u001b[39m, item[\u001b[38;5;124m'\u001b[39m\u001b[38;5;124mlength\u001b[39m\u001b[38;5;124m'\u001b[39m])  \u001b[38;5;66;03m# 序列长度\u001b[39;00m\n",
      "\u001b[0;31mKeyError\u001b[0m: 'predictions_probs'"
     ]
    }
   ],
   "source": [
    "# 查找特定转录本\n",
    "target_id = \"NM_001258253\"\n",
    "for item in predictions:\n",
    "    if item['transcript_id'] == target_id:\n",
    "        print(\"Found transcript:\", target_id)\n",
    "        print(\"\\nPredictions:\", item['predictions'])  # 预测的标签序列\n",
    "        print(\"\\nPrediction probabilities:\", item['predictions_probs'])  # 预测的概率值\n",
    "        print(\"\\nTrue labels:\", item['true_labels'])  # 真实标签\n",
    "        print(\"\\nSequence length:\", item['length'])  # 序列长度\n",
    "        print(\"\\nIs match?:\", item['is_match'])  # 是否匹配\n",
    "\n",
    "        for i, probs in enumerate(item['predictions_probs']):\n",
    "             print(f\"{i}: [{', '.join(f'{p:.2f}' for p in probs)}]\")\n",
    "else:\n",
    "    print(f\"Transcript {target_id} not found in predictions\")"
   ]
  },
  {
   "cell_type": "code",
   "execution_count": null,
   "id": "b4bbbd88-3cfe-4968-8292-069d0066effd",
   "metadata": {},
   "outputs": [],
   "source": []
  }
 ],
 "metadata": {
  "kernelspec": {
   "display_name": "Python (pytorch_env)",
   "language": "python",
   "name": "pytorch_env"
  },
  "language_info": {
   "codemirror_mode": {
    "name": "ipython",
    "version": 3
   },
   "file_extension": ".py",
   "mimetype": "text/x-python",
   "name": "python",
   "nbconvert_exporter": "python",
   "pygments_lexer": "ipython3",
   "version": "3.12.3"
  }
 },
 "nbformat": 4,
 "nbformat_minor": 5
}
