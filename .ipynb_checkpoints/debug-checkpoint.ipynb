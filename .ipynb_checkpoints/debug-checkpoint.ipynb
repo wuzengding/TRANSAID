{
 "cells": [
  {
   "cell_type": "code",
   "execution_count": 17,
   "id": "5cd3ec16-b93b-449a-a8a2-ac76b9a9e9b3",
   "metadata": {},
   "outputs": [],
   "source": [
    "import torch\n",
    "import numpy as np"
   ]
  },
  {
   "cell_type": "code",
   "execution_count": 28,
   "id": "e2a0c14c-a490-47a7-8516-89b86021d7cf",
   "metadata": {},
   "outputs": [],
   "source": []
  },
  {
   "cell_type": "code",
   "execution_count": 30,
   "id": "65e2e4af-df69-4545-afe7-40e0b160bce8",
   "metadata": {},
   "outputs": [
    {
     "name": "stdout",
     "output_type": "stream",
     "text": [
      "40 2\n",
      "41 2\n",
      "42 2\n",
      "1321 1\n",
      "1322 1\n",
      "1323 1\n"
     ]
    }
   ],
   "source": [
    "labels = torch.load('test_test_2/NM_000019_labels.pt',weights_only=True)\n",
    "for i,value in enumerate(labels):\n",
    "    if value != 0:\n",
    "        print(i,int(value.item()))"
   ]
  },
  {
   "cell_type": "code",
   "execution_count": 31,
   "id": "b25fc03f-8806-4ab4-9520-c83eebf54e68",
   "metadata": {},
   "outputs": [
    {
     "name": "stdout",
     "output_type": "stream",
     "text": [
      "70 2\n",
      "71 2\n",
      "72 2\n",
      "940 1\n",
      "941 1\n",
      "942 1\n"
     ]
    }
   ],
   "source": [
    "labels = torch.load('test_2/NM_000015_labels.pt',weights_only=True)\n",
    "for i,value in enumerate(labels):\n",
    "    if value != 0:\n",
    "        print(i,int(value.item()))"
   ]
  },
  {
   "cell_type": "code",
   "execution_count": 32,
   "id": "34232c85-fcff-4c6a-b1bc-06bc3370b56d",
   "metadata": {},
   "outputs": [
    {
     "name": "stdout",
     "output_type": "stream",
     "text": [
      "60 2\n",
      "61 2\n",
      "62 2\n",
      "1296 1\n",
      "1297 1\n",
      "1298 1\n"
     ]
    }
   ],
   "source": [
    "labels = torch.load('test_2/NM_000017_labels.pt',weights_only=True)\n",
    "for i,value in enumerate(labels):\n",
    "    if value != 0:\n",
    "        print(i,int(value.item()))"
   ]
  },
  {
   "cell_type": "code",
   "execution_count": null,
   "id": "516deaad-925d-4cb8-9980-d7d154331d35",
   "metadata": {},
   "outputs": [],
   "source": []
  }
 ],
 "metadata": {
  "kernelspec": {
   "display_name": "Python (pytorch_env)",
   "language": "python",
   "name": "pytorch_env"
  },
  "language_info": {
   "codemirror_mode": {
    "name": "ipython",
    "version": 3
   },
   "file_extension": ".py",
   "mimetype": "text/x-python",
   "name": "python",
   "nbconvert_exporter": "python",
   "pygments_lexer": "ipython3",
   "version": "3.12.3"
  }
 },
 "nbformat": 4,
 "nbformat_minor": 5
}
